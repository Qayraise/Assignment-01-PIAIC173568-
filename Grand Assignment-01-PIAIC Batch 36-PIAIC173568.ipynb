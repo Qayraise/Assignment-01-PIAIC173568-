{
 "cells": [
  {
   "cell_type": "markdown",
   "metadata": {},
   "source": [
    "# Student Name: M QAYRAISE ALI\n",
    "# I.D : PIAIC173568\n",
    "# Q1 - BATCH : 36\n",
    "# UIT - Sunday "
   ]
  },
  {
   "cell_type": "markdown",
   "metadata": {},
   "source": [
    "# --------------------------------------------------------------------------------------------------"
   ]
  },
  {
   "cell_type": "markdown",
   "metadata": {},
   "source": [
    "# Grand Assignment :            \n",
    "\n",
    "## Variables and Strings\n",
    "### 1.Simple Message: Assign a message to a variable, and then print that message."
   ]
  },
  {
   "cell_type": "code",
   "execution_count": null,
   "metadata": {},
   "outputs": [],
   "source": [
    "a = \"Welcome\"\n",
    "print(a)"
   ]
  },
  {
   "cell_type": "markdown",
   "metadata": {},
   "source": [
    "-------"
   ]
  },
  {
   "cell_type": "markdown",
   "metadata": {},
   "source": [
    "### 2.Find a quote from a famous person you admire. Print the quote and the name of its author. \n",
    "Your output should look something like the following, including the quotation marks:\n",
    "\n",
    "Albert Einstein once said, “A person who never made a mistake never tried anything new.”"
   ]
  },
  {
   "cell_type": "code",
   "execution_count": 38,
   "metadata": {},
   "outputs": [
    {
     "name": "stdout",
     "output_type": "stream",
     "text": [
      "Albert Einstein once said, \" A person who never made a mistake never tried anything new. \"\n"
     ]
    }
   ],
   "source": [
    "fav_quote = 'A person who never made a mistake never tried anything new.'\n",
    "print(\"Albert Einstein once said,\",'\"',fav_quote,'\"')"
   ]
  },
  {
   "cell_type": "markdown",
   "metadata": {},
   "source": [
    "--------"
   ]
  },
  {
   "cell_type": "markdown",
   "metadata": {},
   "source": [
    "### 3.Calculate Area of a Circle.\n",
    "Write a Python program which accepts the radius of a circle from the user and compute the area.\n",
    "\n",
    "Program Console Sample Output 1:\n",
    "\n",
    "Input Radius: 0.5\n",
    "\n",
    "Area of Circle with radius 0.5 is 0.7853981634"
   ]
  },
  {
   "cell_type": "code",
   "execution_count": 39,
   "metadata": {},
   "outputs": [
    {
     "name": "stdout",
     "output_type": "stream",
     "text": [
      "Enter the radius: 10\n",
      "Area of Circle with 10.0 is 314.2\n"
     ]
    }
   ],
   "source": [
    "# area = pi x rxr\n",
    "radius = float(input('Enter the radius: '))\n",
    "pi = 3.142\n",
    "area = pi * radius**2\n",
    "print('Area of Circle with', radius, 'is', area)"
   ]
  },
  {
   "cell_type": "markdown",
   "metadata": {},
   "source": [
    "---------------"
   ]
  },
  {
   "cell_type": "markdown",
   "metadata": {},
   "source": [
    "### Check Number either positive, negative or zero.\n",
    "Write a Python program to check if a number is positive,\n",
    "\n",
    "negative or zero\n",
    "\n",
    "Program Console Sample Output 1:\n",
    "\n",
    "Enter Number: -1\n",
    "\n",
    "Negative Number Entered\n",
    "\n",
    "Program Console Sample Output 2:\n",
    "\n",
    "Integer: 3\n",
    "\n",
    "Positive Number Entered\n",
    "\n",
    "Program Console Sample Output 3:\n",
    "\n",
    "Integer: 0\n",
    "\n",
    "Zero Entered"
   ]
  },
  {
   "cell_type": "code",
   "execution_count": 37,
   "metadata": {},
   "outputs": [
    {
     "name": "stdout",
     "output_type": "stream",
     "text": [
      "Enter the Number: 3\n",
      "Positive Number Entered\n"
     ]
    }
   ],
   "source": [
    "num = float(input(\"Enter the Number: \"))\n",
    "if num > 0:\n",
    "    print(\"Positive Number Entered\")\n",
    "elif num < 0:\n",
    "    print(\"Negative Number Entered\")\n",
    "else: \n",
    "    print('Zero Entered')"
   ]
  },
  {
   "cell_type": "markdown",
   "metadata": {},
   "source": [
    "------------"
   ]
  },
  {
   "cell_type": "markdown",
   "metadata": {},
   "source": [
    "### Vowel Tester Write a Python program to test whether a passed letter is a vowel or not\n",
    "Program Console Output 1:\n",
    "\n",
    "Enter a character: A\n",
    "\n",
    "Letter A is Vowel\n",
    "\n",
    "Program Console Output 2:\n",
    "\n",
    "Enter a character: e\n",
    "\n",
    "Letter e is Vowel\n",
    "\n",
    "Program Console Output 2:\n",
    "\n",
    "Enter a character: N\n",
    "\n",
    "Letter N is not Vowel."
   ]
  },
  {
   "cell_type": "code",
   "execution_count": 36,
   "metadata": {},
   "outputs": [
    {
     "name": "stdout",
     "output_type": "stream",
     "text": [
      "Enter a Character: A\n",
      "Letter A is Vowel\n"
     ]
    }
   ],
   "source": [
    "char = input('Enter a Character: ')\n",
    "if char in (\"a\",\"e\",\"i\",\"o\",\"u\",\"A\",\"E\",\"I\",\"O\",\"U\"):\n",
    "    print('Letter',char, 'is', 'Vowel')\n",
    "else:\n",
    "    print('Letter',char, 'is', 'Not Vowel')"
   ]
  },
  {
   "cell_type": "markdown",
   "metadata": {},
   "source": [
    "----------"
   ]
  },
  {
   "cell_type": "markdown",
   "metadata": {},
   "source": [
    "### BMI Calculator\n",
    "Write a Python program to calculate body mass index Program Console\n",
    "\n",
    "Sample 1:\n",
    "\n",
    "Enter Height in Cm: 180\n",
    "\n",
    "Enter Weight in Kg: 75\n",
    "\n",
    "Your BMI is 23.15"
   ]
  },
  {
   "cell_type": "code",
   "execution_count": 33,
   "metadata": {},
   "outputs": [
    {
     "name": "stdout",
     "output_type": "stream",
     "text": [
      "Enter your Weight in KG: 50\n",
      "Enter your Height in ft: 6\n",
      "Height in cm: 182.88\n",
      "Height in Meter: 1.83\n",
      "---------------------------------\n",
      "Your BMI is: 14.95\n",
      "---------------------------------\n"
     ]
    }
   ],
   "source": [
    "weight = float(input(\"Enter your Weight in KG: \"))\n",
    "height = float(input(\"Enter your Height in ft: \"))\n",
    "\n",
    "cm_height = height * 30.48      #Convert height ft into cm\n",
    "print(f\"Height in cm:{cm_height: .2f}\")\n",
    "\n",
    "height_m = cm_height / 100     #convert height cm into meter\n",
    "print(f\"Height in Meter:{height_m: .2f}\")\n",
    "\n",
    "print('---------------------------------')\n",
    "\n",
    "bmi = weight / (height_m * height_m)  #BMI formulaa weight / height in Sq.meter \n",
    "print(f\"Your BMI is: {bmi:.2f}\")\n",
    "print('---------------------------------')"
   ]
  },
  {
   "cell_type": "markdown",
   "metadata": {},
   "source": [
    "----------"
   ]
  },
  {
   "cell_type": "markdown",
   "metadata": {},
   "source": [
    "# LIST "
   ]
  },
  {
   "cell_type": "markdown",
   "metadata": {},
   "source": [
    "## Store the names of a few of your friends in a list called names\n",
    "\n",
    "### 1. Print each person’s name by accessing each element in the list, one at a time."
   ]
  },
  {
   "cell_type": "code",
   "execution_count": 35,
   "metadata": {},
   "outputs": [
    {
     "name": "stdout",
     "output_type": "stream",
     "text": [
      "Muneeb\n",
      "Amjad\n",
      "Qauraise\n",
      "Ehtisham\n"
     ]
    }
   ],
   "source": [
    "names = [\"Muneeb\", \"Amjad\", \"Qauraise\",\"Ehtisham\"]\n",
    "for i in names:\n",
    "    print(i)"
   ]
  },
  {
   "cell_type": "markdown",
   "metadata": {},
   "source": [
    "--------"
   ]
  },
  {
   "cell_type": "markdown",
   "metadata": {},
   "source": [
    "### 2. Start with the list you used in Question 4, but instead of just printing each person’s name, print a message      to them. The text of each message should be the same, but each message should be personalized with the person’s name."
   ]
  },
  {
   "cell_type": "code",
   "execution_count": 20,
   "metadata": {},
   "outputs": [
    {
     "name": "stdout",
     "output_type": "stream",
     "text": [
      " Hello Muneeb, How Are you? \n",
      " Hello Amjad, How Are you? \n",
      " Hello Qauraise, How Are you? \n",
      " Hello Ehtisham, How Are you? \n"
     ]
    }
   ],
   "source": [
    "names = [\"Muneeb\", \"Amjad\", \"Qauraise\",\"Ehtisham\"]\n",
    "for i in names:\n",
    "    print(f\" Hello {i}, How Are you? \")"
   ]
  },
  {
   "cell_type": "markdown",
   "metadata": {},
   "source": [
    "-----------"
   ]
  },
  {
   "cell_type": "markdown",
   "metadata": {},
   "source": [
    "### 3. Make a python program that conatains your nine favourite dishes in a list called foods. Print the message, The first three items in the list are:\n",
    "\n",
    "Then use a slice to print the first three items from that program’s list.\n",
    "\n",
    "Print the message, Three items from the middle of the list are:\n",
    "\n",
    "Use a slice to print three items from the middle of the list.\n",
    "\n",
    "Print the message, The last three items in the list are:\n",
    "\n",
    "Use a slice to print the last three items in the list."
   ]
  },
  {
   "cell_type": "code",
   "execution_count": 22,
   "metadata": {},
   "outputs": [],
   "source": [
    "foods = [\"Biryani\", \"Seekh Kabab\", \"Pulao\", \"Malai Boti\", \"Chapli Kabab\", \"Korma\", \"Tandoori Chicken\", \"Broast\", \"Reshmi Kabab\"]"
   ]
  },
  {
   "cell_type": "code",
   "execution_count": 23,
   "metadata": {},
   "outputs": [
    {
     "name": "stdout",
     "output_type": "stream",
     "text": [
      "The First 03 Items in the List are: ['Biryani', 'Seekh Kabab', 'Pulao']\n"
     ]
    }
   ],
   "source": [
    "print(\"The First 03 Items in the List are:\", foods[0:3])"
   ]
  },
  {
   "cell_type": "code",
   "execution_count": 25,
   "metadata": {},
   "outputs": [
    {
     "name": "stdout",
     "output_type": "stream",
     "text": [
      "The Middle 03 Items in the List are: ['Malai Boti', 'Chapli Kabab', 'Korma']\n"
     ]
    }
   ],
   "source": [
    "print(\"The Middle 03 Items in the List are:\", foods[3:6])"
   ]
  },
  {
   "cell_type": "code",
   "execution_count": 32,
   "metadata": {},
   "outputs": [
    {
     "name": "stdout",
     "output_type": "stream",
     "text": [
      "The Last 03 Items in the List are: ['Tandoori Chicken', 'Broast', 'Reshmi Kabab']\n"
     ]
    }
   ],
   "source": [
    "print(\"The Last 03 Items in the List are:\", foods[6:])"
   ]
  },
  {
   "cell_type": "markdown",
   "metadata": {},
   "source": [
    "-----------"
   ]
  },
  {
   "cell_type": "markdown",
   "metadata": {},
   "source": [
    "### Start with your program from your last Question 8.\n",
    "#### Make a copy of the list of foods, and call it friend_foods. Then, do the following:\n",
    "Add a new dish to the original list.\n",
    "\n",
    "Add a different dish to the list friend_foods.\n",
    "\n",
    "Prove that you have two separate lists.\n",
    "\n",
    "Print the message, My favorite pizzas are: and then use a for loop to print the first list.\n",
    "\n",
    "Print the message,\n",
    "\n",
    "My friend’s favorite foods are:, and then use a for loop to print the second list.\n",
    "\n",
    "NOTE: Make sure each new dish is stored in the appropriate list."
   ]
  },
  {
   "cell_type": "code",
   "execution_count": 115,
   "metadata": {},
   "outputs": [],
   "source": [
    "foods = [\"Biryani\", \"Seekh Kabab\", \"Pulao\", \"Malai Boti\", \"Chapli Kabab\", \"Korma\", \"Tandoori Chicken\", \"Broast\", \"Reshmi Kabab\"]"
   ]
  },
  {
   "cell_type": "markdown",
   "metadata": {},
   "source": [
    "### Making New List from the Original Food List"
   ]
  },
  {
   "cell_type": "code",
   "execution_count": 116,
   "metadata": {},
   "outputs": [],
   "source": [
    "friends_foods = foods[::-1]   #Reversing the original List to make a new list"
   ]
  },
  {
   "cell_type": "code",
   "execution_count": 117,
   "metadata": {},
   "outputs": [
    {
     "name": "stdout",
     "output_type": "stream",
     "text": [
      "['Reshmi Kabab', 'Broast', 'Tandoori Chicken', 'Korma', 'Chapli Kabab', 'Malai Boti', 'Pulao', 'Seekh Kabab', 'Biryani']\n"
     ]
    }
   ],
   "source": [
    "print(friends_foods)"
   ]
  },
  {
   "cell_type": "markdown",
   "metadata": {},
   "source": [
    "### Adding New Dish in Both List"
   ]
  },
  {
   "cell_type": "code",
   "execution_count": 118,
   "metadata": {},
   "outputs": [],
   "source": [
    "foods.append(\"Pizza\")      #append the New Item in the original food List\n",
    "friends_foods.append(\"Gobi\")  #append the New Item in the friends foods list"
   ]
  },
  {
   "cell_type": "code",
   "execution_count": 119,
   "metadata": {},
   "outputs": [
    {
     "name": "stdout",
     "output_type": "stream",
     "text": [
      "['Biryani', 'Seekh Kabab', 'Pulao', 'Malai Boti', 'Chapli Kabab', 'Korma', 'Tandoori Chicken', 'Broast', 'Reshmi Kabab', 'Pizza']\n",
      "['Reshmi Kabab', 'Broast', 'Tandoori Chicken', 'Korma', 'Chapli Kabab', 'Malai Boti', 'Pulao', 'Seekh Kabab', 'Biryani', 'Gobi']\n"
     ]
    }
   ],
   "source": [
    "print(foods)\n",
    "print(friends_foods)"
   ]
  },
  {
   "cell_type": "markdown",
   "metadata": {},
   "source": [
    "## Checking the Both List , they are Same or Not"
   ]
  },
  {
   "cell_type": "code",
   "execution_count": 101,
   "metadata": {},
   "outputs": [
    {
     "name": "stdout",
     "output_type": "stream",
     "text": [
      "Both List are Different\n"
     ]
    }
   ],
   "source": [
    "if foods == friends_foods:\n",
    "    print(\"Both List are Same\")\n",
    "else:\n",
    "    print(\"Both List are Different\")"
   ]
  },
  {
   "cell_type": "code",
   "execution_count": 109,
   "metadata": {},
   "outputs": [
    {
     "name": "stdout",
     "output_type": "stream",
     "text": [
      "My Favorite Foods are: \n",
      "Biryani\n",
      "Seekh Kabab\n",
      "Pulao\n",
      "Malai Boti\n",
      "Chapli Kabab\n",
      "Korma\n",
      "Tandoori Chicken\n",
      "Broast\n",
      "Reshmi Kabab\n",
      "Pizza\n"
     ]
    }
   ],
   "source": [
    "print(\"My Favorite Foods are: \")\n",
    "for myfav in foods:\n",
    "    print(myfav)"
   ]
  },
  {
   "cell_type": "code",
   "execution_count": 114,
   "metadata": {},
   "outputs": [
    {
     "name": "stdout",
     "output_type": "stream",
     "text": [
      "My Friends Favorite Foods: \n",
      "Reshmi Kabab\n",
      "Broast\n",
      "Tandoori Chicken\n",
      "Korma\n",
      "Chapli Kabab\n",
      "Malai Boti\n",
      "Pulao\n",
      "Seekh Kabab\n",
      "Biryani\n",
      "Gobi\n"
     ]
    }
   ],
   "source": [
    "print(\"My Friends Favorite Foods: \")\n",
    "for myfriends in friends_foods:\n",
    "    print(myfriends)"
   ]
  }
 ],
 "metadata": {
  "kernelspec": {
   "display_name": "Python 3",
   "language": "python",
   "name": "python3"
  },
  "language_info": {
   "codemirror_mode": {
    "name": "ipython",
    "version": 3
   },
   "file_extension": ".py",
   "mimetype": "text/x-python",
   "name": "python",
   "nbconvert_exporter": "python",
   "pygments_lexer": "ipython3",
   "version": "3.8.5"
  }
 },
 "nbformat": 4,
 "nbformat_minor": 5
}
